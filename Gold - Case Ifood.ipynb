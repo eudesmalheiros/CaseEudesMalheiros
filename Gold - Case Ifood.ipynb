{
 "cells": [
  {
   "cell_type": "code",
   "execution_count": 0,
   "metadata": {
    "application/vnd.databricks.v1+cell": {
     "cellMetadata": {
      "byteLimit": 2048000,
      "rowLimit": 10000
     },
     "inputWidgets": {},
     "nuid": "eaff33c8-5587-4d13-b4d5-5772ad64d49f",
     "showTitle": false,
     "tableResultSettingsMap": {},
     "title": ""
    }
   },
   "outputs": [],
   "source": [
    "from pyspark.sql import SparkSession #Importando Pyspark\n",
    "from pyspark.sql.functions import * #Funções\n",
    "from pyspark.sql.types import * #Definir tipos específicos\n",
    "from pyspark.sql.window import Window"
   ]
  },
  {
   "cell_type": "code",
   "execution_count": 0,
   "metadata": {
    "application/vnd.databricks.v1+cell": {
     "cellMetadata": {
      "byteLimit": 2048000,
      "rowLimit": 10000
     },
     "inputWidgets": {},
     "nuid": "00a7691a-294e-40d9-8910-c38d7239d832",
     "showTitle": false,
     "tableResultSettingsMap": {},
     "title": ""
    }
   },
   "outputs": [],
   "source": [
    "df_orders = spark.table(\"workspace.prata.orders\")\n",
    "df_restaurant = spark.table(\"workspace.prata.restaurant\")\n",
    "df_teste_ab = spark.table(\"workspace.prata.teste_ab\")\n",
    "df_users = spark.table(\"workspace.prata.users\")"
   ]
  },
  {
   "cell_type": "code",
   "execution_count": 0,
   "metadata": {
    "application/vnd.databricks.v1+cell": {
     "cellMetadata": {
      "byteLimit": 2048000,
      "rowLimit": 10000
     },
     "inputWidgets": {},
     "nuid": "3f074d72-0439-4b4c-9f5e-d024475e0555",
     "showTitle": false,
     "tableResultSettingsMap": {},
     "title": ""
    }
   },
   "outputs": [
    {
     "output_type": "stream",
     "name": "stdout",
     "output_type": "stream",
     "text": [
      "root\n |-- cpf: string (nullable = true)\n |-- id_cliente: string (nullable = true)\n |-- nm_cidade_entrega: string (nullable = true)\n |-- nm_pais_entrega: string (nullable = true)\n |-- nm_bairro_entrega: string (nullable = true)\n |-- nm_estado_entrega: string (nullable = true)\n |-- id_restaurante: string (nullable = true)\n |-- nm_fuso_restaurante: string (nullable = true)\n |-- dt_hr_pedido: string (nullable = true)\n |-- order_id: string (nullable = true)\n |-- flg_agendamento: boolean (nullable = true)\n |-- dt_hr_agendamento: string (nullable = true)\n |-- #_vl_total_pedido: double (nullable = true)\n |-- nm_plataforma: string (nullable = true)\n |-- dt_hr_loaded: timestamp (nullable = true)\n |-- dt_hr_pedido_brasilia: timestamp (nullable = true)\n |-- dt_hr_agendamento_brasilia: timestamp (nullable = true)\n\n"
     ]
    }
   ],
   "source": [
    "df_orders.printSchema()"
   ]
  },
  {
   "cell_type": "code",
   "execution_count": 0,
   "metadata": {
    "application/vnd.databricks.v1+cell": {
     "cellMetadata": {
      "byteLimit": 2048000,
      "implicitDf": true,
      "rowLimit": 10000
     },
     "inputWidgets": {},
     "nuid": "6e9ef481-ad47-4186-aa91-410319402ea0",
     "showTitle": false,
     "tableResultSettingsMap": {},
     "title": ""
    }
   },
   "outputs": [],
   "source": [
    "%sql\n",
    "CREATE DATABASE ouro;"
   ]
  },
  {
   "cell_type": "markdown",
   "metadata": {
    "application/vnd.databricks.v1+cell": {
     "cellMetadata": {},
     "inputWidgets": {},
     "nuid": "ca7e1d05-fe13-42ef-994a-00bb3c14efec",
     "showTitle": false,
     "tableResultSettingsMap": {},
     "title": ""
    }
   },
   "source": [
    "1 A - Criando indicadores para melhor análise do contexto\n"
   ]
  },
  {
   "cell_type": "markdown",
   "metadata": {
    "application/vnd.databricks.v1+cell": {
     "cellMetadata": {},
     "inputWidgets": {},
     "nuid": "d979afcf-5b65-480e-be61-27ad064ee2a5",
     "showTitle": false,
     "tableResultSettingsMap": {},
     "title": ""
    }
   },
   "source": [
    "Indicador Taxa de Recompra"
   ]
  },
  {
   "cell_type": "code",
   "execution_count": 0,
   "metadata": {
    "application/vnd.databricks.v1+cell": {
     "cellMetadata": {
      "byteLimit": 2048000,
      "rowLimit": 10000
     },
     "inputWidgets": {},
     "nuid": "c3bfcfe5-1543-4d48-b25e-43e6595335f5",
     "showTitle": false,
     "tableResultSettingsMap": {},
     "title": ""
    }
   },
   "outputs": [],
   "source": [
    "#KPI: Taxa de Recompra \n",
    "\n",
    "#Somando a quantidade de pedidos por cliente e agrupando pelo target e id_cliente\n",
    "df_recompra = (\n",
    "    df_orders.join(df_teste_ab, \"id_cliente\")\n",
    "    .groupBy(\"id_cliente\", \"is_target\")\n",
    "    .agg(count(\"order_id\").alias(\"qtd_pedidos\"))\n",
    ")\n",
    "\n",
    "\n",
    "#Se houve recompra seta 1, se não seta 0\n",
    "df_recompra = df_recompra.withColumn(\n",
    "    \"fez_recompra\", when(col(\"qtd_pedidos\") > 1, 1).otherwise(0)\n",
    ")\n",
    "#Agrupa pelo target e faz a média para calcular a recompra\n",
    "df_taxa_recompra = (\n",
    "    df_recompra.groupBy(\"is_target\")\n",
    "    .agg(avg(\"fez_recompra\").alias(\"taxa_recompra\"))\n",
    ")\n",
    "\n",
    "\n",
    "display(df_taxa_recompra)\n",
    "\n",
    "#De acordo com o resultado podemos verificar que o grupo de controle obteve 74% de recompra e o grupo de teste obteve 79% de recompra no período."
   ]
  },
  {
   "cell_type": "markdown",
   "metadata": {
    "application/vnd.databricks.v1+cell": {
     "cellMetadata": {},
     "inputWidgets": {},
     "nuid": "980c2a79-4a77-4775-b9bd-c47c2bee9d20",
     "showTitle": false,
     "tableResultSettingsMap": {},
     "title": ""
    }
   },
   "source": [
    "KPI Média de Pedidos por usuário"
   ]
  },
  {
   "cell_type": "code",
   "execution_count": 0,
   "metadata": {
    "application/vnd.databricks.v1+cell": {
     "cellMetadata": {
      "byteLimit": 2048000,
      "rowLimit": 10000
     },
     "inputWidgets": {},
     "nuid": "7f9d4ea6-4d02-4ba6-8690-bfa44d90ff2a",
     "showTitle": false,
     "tableResultSettingsMap": {},
     "title": ""
    }
   },
   "outputs": [],
   "source": [
    "# KPI Média de pedidos por usuário\n",
    "# Média = total de pedidos no grupo / total de usuários no grupo\n",
    "\n",
    "df_media_pedidos = (\n",
    "    df_recompra.groupBy(\"is_target\")\n",
    "    .agg(avg(\"qtd_pedidos\").alias(\"media_pedidos_por_usuario\"))\n",
    ")\n",
    "\n",
    "\n",
    "display(df_media_pedidos)\n",
    "#Observamos que a quantidade de pedidos por usuário no grupo de teste é maior que no grupo de controle. sendo 4.23 pedidos para o controle e 4.79 para pedidos de teste.\n"
   ]
  },
  {
   "cell_type": "markdown",
   "metadata": {
    "application/vnd.databricks.v1+cell": {
     "cellMetadata": {},
     "inputWidgets": {},
     "nuid": "b589785a-10ee-419b-a5df-6de5c18bb794",
     "showTitle": false,
     "tableResultSettingsMap": {},
     "title": ""
    }
   },
   "source": [
    "KPI TIcket Médio por usuário"
   ]
  },
  {
   "cell_type": "code",
   "execution_count": 0,
   "metadata": {
    "application/vnd.databricks.v1+cell": {
     "cellMetadata": {
      "byteLimit": 2048000,
      "rowLimit": 10000
     },
     "inputWidgets": {},
     "nuid": "a6562cae-c187-45ea-b0f5-e5a0b270a17e",
     "showTitle": false,
     "tableResultSettingsMap": {},
     "title": ""
    }
   },
   "outputs": [],
   "source": [
    "# TICKET MÉDIO POR USUÁRIO\n",
    "# ticket médio = valor total dos pedidos do grupo / n de usuário do grupo\n",
    "\n",
    "#Verificando o valor total gasto por cliente\n",
    "df_gasto_cliente = (\n",
    "    df_orders.join(df_teste_ab, \"id_cliente\")\n",
    "    .groupBy(\"id_cliente\", \"is_target\")\n",
    "    .agg(sum(\"#_vl_total_pedido\").alias(\"vl_total_cliente\"))\n",
    ")\n",
    "\n",
    "#Calculando o ticket médio por cliente\n",
    "df_ticket_medio_usuario = (\n",
    "    df_gasto_cliente.groupBy(\"is_target\")\n",
    "    .agg(avg(\"vl_total_cliente\").alias(\"ticket_medio_usuario\"))\n",
    ")\n",
    "\n",
    "display(df_ticket_medio_usuario)\n",
    "\n",
    "#Nesse indicador, verificamos mais uma vez que os usuário do grupo de experimento, gasta mais do que os usuários do grupo de controle no périodo, outro possível impacto da campanha de cupons."
   ]
  },
  {
   "cell_type": "markdown",
   "metadata": {
    "application/vnd.databricks.v1+cell": {
     "cellMetadata": {},
     "inputWidgets": {},
     "nuid": "062d5ce9-3600-4957-a295-9da5349f7ede",
     "showTitle": false,
     "tableResultSettingsMap": {},
     "title": ""
    }
   },
   "source": [
    "Ticket Médio por Pedido"
   ]
  },
  {
   "cell_type": "code",
   "execution_count": 0,
   "metadata": {
    "application/vnd.databricks.v1+cell": {
     "cellMetadata": {
      "byteLimit": 2048000,
      "rowLimit": 10000
     },
     "inputWidgets": {},
     "nuid": "49a3f34c-4a19-4de0-93d6-ec14122a33c7",
     "showTitle": false,
     "tableResultSettingsMap": {},
     "title": ""
    }
   },
   "outputs": [],
   "source": [
    "# Ticket médio por pedido\n",
    "# ticket médio por pedido = soma dos valores dos pedidos / número total de pedidos\n",
    "#Cada pedido, em média, ficou em quanto?\n",
    "\n",
    "df_pedidos = df_orders.join(df_teste_ab, \"id_cliente\")\n",
    "\n",
    "df_ticket_medio_pedido = (\n",
    "    df_pedidos\n",
    "    .groupBy(\"is_target\")\n",
    "    .agg(avg(\"#_vl_total_pedido\").alias(\"ticket_medio_pedido\"))\n",
    ")\n",
    "\n",
    "display(df_ticket_medio_pedido)\n",
    "\n",
    "#Aqui não houve diferença, isso indica que o cupom não aumentou o valor médio por pedido, mas sim o volume de pedidos.\n"
   ]
  },
  {
   "cell_type": "markdown",
   "metadata": {
    "application/vnd.databricks.v1+cell": {
     "cellMetadata": {},
     "inputWidgets": {},
     "nuid": "9fe50e88-55c1-4ba9-bf41-5311ccd63eb4",
     "showTitle": false,
     "tableResultSettingsMap": {},
     "title": ""
    }
   },
   "source": [
    "KPI Retenção D+7 e D+14"
   ]
  },
  {
   "cell_type": "code",
   "execution_count": 0,
   "metadata": {
    "application/vnd.databricks.v1+cell": {
     "cellMetadata": {
      "byteLimit": 2048000,
      "rowLimit": 10000
     },
     "inputWidgets": {},
     "nuid": "00930135-6f43-4c0a-87c7-084d7458d97e",
     "showTitle": false,
     "tableResultSettingsMap": {},
     "title": ""
    }
   },
   "outputs": [],
   "source": [
    "# KPI: Retenção D+7 / D+14\n",
    "# % de usuários que fizeram pelo menos 1 pedido adicional dentro de 7 ou 14 dias após o primeiro pedido.\n",
    "\n",
    "\n",
    "# Data do primeiro pedido de cada cliente\n",
    "df_first_order = (\n",
    "    df_orders\n",
    "    .groupBy(\"id_cliente\")\n",
    "    .agg(min(\"dt_hr_pedido_brasilia\").alias(\"dt_primeiro_pedido\"))\n",
    ")\n",
    "\n",
    "#Juntanto com pedidos e calculando o dia desde o primeiro pedido\n",
    "df_pedidos_com_dia = (\n",
    "    df_orders.join(df_first_order, \"id_cliente\")\n",
    "    .withColumn(\"dias_desde_primeiro\", datediff(\"dt_hr_pedido_brasilia\", \"dt_primeiro_pedido\"))\n",
    ")\n",
    "\n",
    "\n",
    "\n",
    "\n",
    "# D+7\n",
    "#Filtrando pedidos entre 1 e 7 dias\n",
    "df_retenidos_d7 = (\n",
    "    df_pedidos_com_dia\n",
    "    .filter((col(\"dias_desde_primeiro\") > 0) & (col(\"dias_desde_primeiro\") <= 7))\n",
    "    .select(\"id_cliente\")\n",
    "    .distinct()\n",
    "    .withColumn(\"retenido_d7\", lit(1))\n",
    ")\n",
    "\n",
    "# D+14\n",
    "# Filtrando pedidos entre 1 e 14 dias\n",
    "df_retenidos_d14 = (\n",
    "    df_pedidos_com_dia\n",
    "    .filter((col(\"dias_desde_primeiro\") > 0) & (col(\"dias_desde_primeiro\") <= 14))\n",
    "    .select(\"id_cliente\")\n",
    "    .distinct()\n",
    "    .withColumn(\"retenido_d14\", lit(1))\n",
    ")\n",
    "\n",
    "#Juntando pedidos com retenção de 7 e 14\n",
    "df_recompra_retencao = (\n",
    "    df_orders.select(\"id_cliente\").distinct()\n",
    "    .join(df_retenidos_d7, \"id_cliente\", \"left\")\n",
    "    .join(df_retenidos_d14, \"id_cliente\", \"left\")\n",
    "    .fillna(0)\n",
    ")\n",
    "\n",
    "\n",
    "df_recompra_retencao = df_recompra_retencao.join(df_teste_ab, \"id_cliente\")\n",
    "\n",
    "df_retencao = (\n",
    "    df_recompra_retencao.groupBy(\"is_target\")\n",
    "    .agg(\n",
    "        avg(\"retenido_d7\").alias(\"taxa_retencao_d7\"),\n",
    "        avg(\"retenido_d14\").alias(\"taxa_retencao_d14\")\n",
    "    )\n",
    ")\n",
    "\n",
    "display(df_retencao)\n",
    "\n",
    "# Grupo de teste teve uma taxa de retenção maior tanto em 7 quanto em 14 dias, mostrando que houve uma maior recorrência dentro de 2 semanas."
   ]
  },
  {
   "cell_type": "markdown",
   "metadata": {
    "application/vnd.databricks.v1+cell": {
     "cellMetadata": {},
     "inputWidgets": {},
     "nuid": "5b920a93-1317-4f9d-acca-d081331dc51b",
     "showTitle": false,
     "tableResultSettingsMap": {},
     "title": ""
    }
   },
   "source": [
    "Ticket Médio entre Pedidos"
   ]
  },
  {
   "cell_type": "code",
   "execution_count": 0,
   "metadata": {
    "application/vnd.databricks.v1+cell": {
     "cellMetadata": {
      "byteLimit": 2048000,
      "rowLimit": 10000
     },
     "inputWidgets": {},
     "nuid": "689b6668-b270-4b35-a83d-9f28d9103cd6",
     "showTitle": false,
     "tableResultSettingsMap": {},
     "title": ""
    }
   },
   "outputs": [],
   "source": [
    "# Tempo médio entre pedidos\n",
    "# tempo médio = diferença entre pedidos consecutivos / número de intervalos\n",
    "# Quanto menor o tmepo médio, maior o engajamento\n",
    "\n",
    "#Join orders e grupo de teste\n",
    "df_pedidos = df_orders.join(df_teste_ab, \"id_cliente\")\n",
    "\n",
    "#Windows funciont, agrupando os dados por cliente\n",
    "janela = Window.partitionBy(\"id_cliente\").orderBy(\"dt_hr_pedido_brasilia\")\n",
    "\n",
    "#Adicionando colunsa pedido anterior e dias entre pedidos\n",
    "df_diff_pedidos = (\n",
    "    df_pedidos\n",
    "    .withColumn(\"pedido_anterior\", lag(\"dt_hr_pedido_brasilia\").over(janela))\n",
    "    .withColumn(\"dias_entre_pedidos\", datediff(\"dt_hr_pedido_brasilia\", \"pedido_anterior\"))\n",
    ")\n",
    "\n",
    "#Adicionando coluna de tempo medio de clientes\n",
    "df_tempo_medio_cliente = (\n",
    "    df_diff_pedidos\n",
    "    .groupBy(\"id_cliente\", \"is_target\")\n",
    "    .agg(avg(\"dias_entre_pedidos\").alias(\"tempo_medio_cliente\"))\n",
    "    .filter(col(\"tempo_medio_cliente\").isNotNull())  # só quem tem mais de 1 pedido\n",
    ")\n",
    "\n",
    "#Pegando a média do tempo e agrupando por grupo.\n",
    "df_tempo_medio_grupo = (\n",
    "    df_tempo_medio_cliente\n",
    "    .groupBy(\"is_target\")\n",
    "    .agg(avg(\"tempo_medio_cliente\").alias(\"tempo_medio_entre_pedidos\"))\n",
    ")\n",
    "\n",
    "\n",
    "\n",
    "display(df_tempo_medio_grupo)\n",
    "\n",
    "# 16.7 dias control\n",
    "# 14.9 dias target\n",
    "# Grupo de teste teve um tempo médio entre pedidos menor, nesse caso o cupom pode ter acelerado o ciclo de recompra fazendo o cliente do grupo de teste pedir mais cedo.\n"
   ]
  },
  {
   "cell_type": "code",
   "execution_count": 0,
   "metadata": {
    "application/vnd.databricks.v1+cell": {
     "cellMetadata": {
      "byteLimit": 2048000,
      "rowLimit": 10000
     },
     "inputWidgets": {},
     "nuid": "da30e189-3f61-4d11-8d55-80c918e378c6",
     "showTitle": false,
     "tableResultSettingsMap": {},
     "title": ""
    }
   },
   "outputs": [],
   "source": [
    "#Juntando todos os Kpis e persistindo em tabela.\n",
    "df_kpis_avaliacao = df_taxa_recompra \\\n",
    "    .join(df_media_pedidos, on=\"is_target\", how=\"inner\") \\\n",
    "    .join(df_ticket_medio_usuario, on=\"is_target\", how=\"inner\")\\\n",
    "    .join(df_ticket_medio_pedido, on=\"is_target\", how=\"inner\")\\\n",
    "    .join(df_retencao, on=\"is_target\", how=\"inner\")\\\n",
    "    .join(df_tempo_medio_grupo, on=\"is_target\", how=\"inner\")\n",
    "\n",
    "df_kpis_avaliacao.write.format(\"delta\").mode(\"overwrite\").saveAsTable(\"Ouro.tbl_kpi_avaliacao\")"
   ]
  },
  {
   "cell_type": "code",
   "execution_count": 0,
   "metadata": {
    "application/vnd.databricks.v1+cell": {
     "cellMetadata": {
      "byteLimit": 2048000,
      "rowLimit": 10000
     },
     "inputWidgets": {},
     "nuid": "bb3e4a9f-b2b1-4f3f-9063-45a29e93b520",
     "showTitle": false,
     "tableResultSettingsMap": {},
     "title": ""
    }
   },
   "outputs": [],
   "source": [
    "kpis_visu = spark.table(\"workspace.ouro.tbl_kpi_avaliacao\")\n",
    "\n",
    "kpis_visu.display()"
   ]
  },
  {
   "cell_type": "markdown",
   "metadata": {
    "application/vnd.databricks.v1+cell": {
     "cellMetadata": {},
     "inputWidgets": {},
     "nuid": "05525a5f-4023-42cd-90da-8a8ed868707b",
     "showTitle": false,
     "tableResultSettingsMap": {},
     "title": ""
    }
   },
   "source": [
    "1 B - Análise de Viabilidade Financeira"
   ]
  },
  {
   "cell_type": "code",
   "execution_count": 0,
   "metadata": {
    "application/vnd.databricks.v1+cell": {
     "cellMetadata": {
      "byteLimit": 2048000,
      "rowLimit": 10000
     },
     "inputWidgets": {},
     "nuid": "99041a33-1b16-4b0c-9d6a-c8c9a301d8fc",
     "showTitle": false,
     "tableResultSettingsMap": {},
     "title": ""
    }
   },
   "outputs": [],
   "source": [
    "from pyspark.sql.functions import sum as _sum"
   ]
  },
  {
   "cell_type": "markdown",
   "metadata": {
    "application/vnd.databricks.v1+cell": {
     "cellMetadata": {},
     "inputWidgets": {},
     "nuid": "aeaf7810-f6e6-43f7-8dda-1d2c157ed17b",
     "showTitle": false,
     "tableResultSettingsMap": {},
     "title": ""
    }
   },
   "source": [
    "Calculando indicadores financeiros \n",
    "- Receita incremental  \n",
    "- Custo Total  \n",
    "- Lucro Incremental  \n",
    "- ROI"
   ]
  },
  {
   "cell_type": "code",
   "execution_count": 0,
   "metadata": {
    "application/vnd.databricks.v1+cell": {
     "cellMetadata": {
      "byteLimit": 2048000,
      "rowLimit": 10000
     },
     "inputWidgets": {},
     "nuid": "885ef8fa-c2f2-47f8-8a07-ce81124c5925",
     "showTitle": false,
     "tableResultSettingsMap": {},
     "title": ""
    }
   },
   "outputs": [],
   "source": [
    "\n",
    "#Verificando a receita total por grupo\n",
    "df_receita = (\n",
    "    df_orders.join(df_teste_ab, \"id_cliente\")\n",
    "    .groupBy(\"is_target\")\n",
    "    .agg(_sum(\"#_vl_total_pedido\").alias(\"receita_total\"))\n",
    ")\n",
    "\n",
    "#Quantidade total de pedidos por grupo\n",
    "df_pedidos = (\n",
    "    df_orders.join(df_teste_ab, \"id_cliente\")\n",
    "    .groupBy(\"is_target\")\n",
    "    .agg(count(\"order_id\").alias(\"qtd_pedidos\"))\n",
    ")\n",
    "\n",
    "#Definindo o custo médio de cada cupom a 10 reais.\n",
    "valor_cupom = 10.0\n",
    "\n",
    "#Adicionando o campo custo_cupom, que trás o custo total de cupons por grupo\n",
    "df_financeiro = (\n",
    "    df_receita.join(df_pedidos, \"is_target\")\n",
    "    .withColumn(\"custo_cupom\", when(col(\"is_target\") == \"target\", col(\"qtd_pedidos\") * valor_cupom).otherwise(0.0))\n",
    ")\n",
    "\n",
    "\n",
    "\n",
    "\n",
    "# Pegando o primeiro registro de cada df\n",
    "controle = df_financeiro.filter(col(\"is_target\") == \"control\").collect()[0]\n",
    "tratamento = df_financeiro.filter(col(\"is_target\") == \"target\").collect()[0]\n",
    "\n",
    "# Receita incremental\n",
    "receita_inc = tratamento[\"receita_total\"] - controle[\"receita_total\"]\n",
    "\n",
    "# Custo total\n",
    "custo_total = tratamento[\"custo_cupom\"]\n",
    "\n",
    "# Lucro incremental\n",
    "lucro_incremental = receita_inc - custo_total\n",
    "\n",
    "# ROI = Retorno sobre o investimento \n",
    "roi = lucro_incremental / custo_total if custo_total != 0 else None\n",
    "\n",
    "\n",
    "print(f\"Receita Incremental: {receita_inc}\")\n",
    "print(f\"Custo total: {custo_total}\")\n",
    "print(f\"Lucro Incremental: {lucro_incremental}\")\n",
    "print(f\"ROI: {roi}\") \n",
    "\n",
    "#display(receita_inc) #28 935 696.96\n",
    "#display(custo_total) # 21 367 450\n",
    "#display(lucro_incremental) #7 568 246.96\n",
    "display(roi) #35%\n",
    "\n",
    "#De acordo com os resultados dos indicadores, a campanha de cupons foi financeiramente viável, pois o VALOR DE RECEITA ADICIONAL no grupo de tratamento superou os custos de descontos e o LUCRO foi de 7,57 milhões. O roi foi de 35% e indica que para cada 1 R$ investido em cupom, o retorno foi de 1,35.\n",
    "\n",
    "\n"
   ]
  },
  {
   "cell_type": "markdown",
   "metadata": {
    "application/vnd.databricks.v1+cell": {
     "cellMetadata": {},
     "inputWidgets": {},
     "nuid": "50fc7ce5-fb2e-422b-b5a7-8a1cade5edfd",
     "showTitle": false,
     "tableResultSettingsMap": {},
     "title": ""
    }
   },
   "source": [
    "Parte 2 - Segmentação e reanalise dos resultados para o novo contexto segmentado."
   ]
  },
  {
   "cell_type": "markdown",
   "metadata": {
    "application/vnd.databricks.v1+cell": {
     "cellMetadata": {},
     "inputWidgets": {},
     "nuid": "17738a40-3ffd-4133-acad-59effc8b26ee",
     "showTitle": false,
     "tableResultSettingsMap": {},
     "title": ""
    }
   },
   "source": [
    "Segmentando por Baixa, Média e Alta Frequência  \n",
    "Critérios:  \n",
    "Baixa -> 1 pedido  \n",
    "Média -> 2-3 pedidos  \n",
    "Alta -> 4 ou mais pedidos    "
   ]
  },
  {
   "cell_type": "code",
   "execution_count": 0,
   "metadata": {
    "application/vnd.databricks.v1+cell": {
     "cellMetadata": {
      "byteLimit": 2048000,
      "rowLimit": 10000
     },
     "inputWidgets": {},
     "nuid": "302aa0cb-f94c-4652-94f1-d8c76166e09e",
     "showTitle": false,
     "tableResultSettingsMap": {},
     "title": ""
    }
   },
   "outputs": [],
   "source": [
    "#Contando a quantidade de pedidos por cliente\n",
    "df_freq = df_orders.groupBy(\"id_cliente\").agg(count(\"*\").alias(\"num_pedidos\"))\n",
    "\n",
    "#Verificando a frequencia de compra por cliente\n",
    "df_freq_segmentado = df_freq.withColumn(\n",
    "    \"segmento_frequencia\",\n",
    "    when(df_freq.num_pedidos == 1, \"baixa\") \\\n",
    "    .when((df_freq.num_pedidos >= 2) & (df_freq.num_pedidos <= 3), \"media\") \\\n",
    "    .otherwise(\"alta\")\n",
    ")\n",
    "\n",
    "df_freq_segmentado2 = df_freq_segmentado.join(df_teste_ab, on=\"id_cliente\", how=\"left\")\n",
    "\n",
    "df_freq_segmentado2 = df_freq_segmentado2.groupBy(\"segmento_frequencia\", \"is_target\") \\\n",
    "    .agg(\n",
    "        countDistinct(\"id_cliente\").alias(\"total_clientes\"),\n",
    "        sum(\"num_pedidos\").alias(\"total_pedidos\")\n",
    "    ) \\\n",
    "    .filter(col(\"is_target\").isNotNull())\\\n",
    "    .orderBy(\"segmento_frequencia\", \"is_target\")\n",
    "\n",
    "\n",
    "display(df_freq_segmentado2)\n",
    "\n",
    "# Vimos que clientes a quantidade de clientes com alta e média frequência é maior no grupo de testes do que no grupo de controle\n",
    "\n",
    "# Para clientes de baixa frequência, o número é praticamente o mesmo.\n"
   ]
  },
  {
   "cell_type": "markdown",
   "metadata": {
    "application/vnd.databricks.v1+cell": {
     "cellMetadata": {},
     "inputWidgets": {},
     "nuid": "395cf6e3-2e42-4617-9027-71561280c87f",
     "showTitle": false,
     "tableResultSettingsMap": {},
     "title": ""
    }
   },
   "source": [
    "Segmentado por Estado"
   ]
  },
  {
   "cell_type": "code",
   "execution_count": 0,
   "metadata": {
    "application/vnd.databricks.v1+cell": {
     "cellMetadata": {
      "byteLimit": 2048000,
      "rowLimit": 10000
     },
     "inputWidgets": {},
     "nuid": "fecfbde1-30aa-4582-bb1f-8c9179413492",
     "showTitle": false,
     "tableResultSettingsMap": {},
     "title": ""
    }
   },
   "outputs": [],
   "source": [
    "# Agrupando quantidade de pedidos por cliente\n",
    "df_freq = df_orders.groupBy(\"id_cliente\").agg(count(\"*\").alias(\"num_pedidos\"))\n",
    "\n",
    "#Pegando o estado de entrega do cliente (do último pedido, por exemplo)\n",
    "# Assumindo que você pode usar o primeiro estado encontrado\n",
    "df_estado = df_orders.select(\"id_cliente\", \"nm_estado_entrega\").dropna(subset=[\"nm_estado_entrega\"]).dropDuplicates([\"id_cliente\"])\n",
    "\n",
    "#Junta com a tabela de teste_ab e quantidade de pedidos\n",
    "df_estado_segmentado = df_freq \\\n",
    "    .join(df_estado, on=\"id_cliente\", how=\"left\") \\\n",
    "    .join(df_teste_ab, on=\"id_cliente\", how=\"left\")\n",
    "\n",
    "# 4. Agrupa por estado e grupo de teste\n",
    "df_estado_agrupado = df_estado_segmentado.groupBy(\"nm_estado_entrega\", \"is_target\") \\\n",
    "    .agg(\n",
    "        countDistinct(\"id_cliente\").alias(\"total_clientes\"),\n",
    "        sum(\"num_pedidos\").alias(\"total_pedidos\")\n",
    "    ) \\\n",
    "    .filter(col(\"is_target\").isNotNull()) \\\n",
    "    .orderBy(\"nm_estado_entrega\", \"is_target\")\n",
    "\n",
    "\n",
    "df_estado_agrupado.display()\n",
    "\n",
    "\n",
    "#Observamos que em todos os estados, a quantidade de pedidos cresceu no grupo de teste, em relação ao grupo de controle.\n"
   ]
  },
  {
   "cell_type": "markdown",
   "metadata": {
    "application/vnd.databricks.v1+cell": {
     "cellMetadata": {},
     "inputWidgets": {},
     "nuid": "e006bb7a-e4fb-461a-bf50-24497f947a06",
     "showTitle": false,
     "tableResultSettingsMap": {},
     "title": ""
    }
   },
   "source": [
    "Refazendo o ROI por tipo de perfil de cliente"
   ]
  },
  {
   "cell_type": "code",
   "execution_count": 0,
   "metadata": {
    "application/vnd.databricks.v1+cell": {
     "cellMetadata": {
      "byteLimit": 2048000,
      "rowLimit": 10000
     },
     "inputWidgets": {},
     "nuid": "382223bc-62db-4dde-b04b-e0314007303d",
     "showTitle": false,
     "tableResultSettingsMap": {},
     "title": ""
    }
   },
   "outputs": [],
   "source": [
    "# Juntando os dados\n",
    "df_base = df_orders.join(df_teste_ab, \"id_cliente\", \"inner\") \\\n",
    "                   .join(df_freq_segmentado.select(\"id_cliente\", \"segmento_frequencia\"), \"id_cliente\", \"left\")\n",
    "\n",
    "# Receita por segmento e grupo\n",
    "df_receita = df_base.groupBy(\"segmento_frequencia\", \"is_target\") \\\n",
    "    .agg(_sum(\"#_vl_total_pedido\").alias(\"receita_total\"))\n",
    "\n",
    "# Pedidos por segmento e grupo\n",
    "df_pedidos = df_base.groupBy(\"segmento_frequencia\", \"is_target\") \\\n",
    "    .agg(count(\"order_id\").alias(\"qtd_pedidos\"))\n",
    "\n",
    "# Unindo receita e pedidos\n",
    "df_financeiro = df_receita.join(df_pedidos, [\"segmento_frequencia\", \"is_target\"])\n",
    "\n",
    "# Custo do cupom apenas para o grupo \"target\"\n",
    "df_financeiro = df_financeiro.withColumn(\n",
    "    \"custo_cupom\",\n",
    "    when(col(\"is_target\") == \"target\", col(\"qtd_pedidos\") * valor_cupom).otherwise(0.0)\n",
    ")\n",
    "\n",
    "# Pivotando para calcular Receita Incremental e ROI por segmento\n",
    "df_final = df_financeiro.groupBy(\"segmento_frequencia\").pivot(\"is_target\", [\"control\", \"target\"]) \\\n",
    "    .agg(\n",
    "        _sum(\"receita_total\").alias(\"receita_total\"),\n",
    "        _sum(\"custo_cupom\").alias(\"custo_total\")\n",
    "    ) \\\n",
    "    .withColumn(\"receita_incremental\", col(\"target_receita_total\") - col(\"control_receita_total\")) \\\n",
    "    .withColumn(\"lucro_incremental\", col(\"receita_incremental\") - col(\"target_custo_total\")) \\\n",
    "    .withColumn(\"roi\", (col(\"lucro_incremental\") / col(\"target_custo_total\")) * 100)\n",
    "\n",
    "\n",
    "df_final.select(\n",
    "    \"segmento_frequencia\",\n",
    "    \"receita_incremental\",\n",
    "    \"target_custo_total\",\n",
    "    \"lucro_incremental\",\n",
    "    \"roi\"\n",
    ").display()\n",
    "\n",
    "\n",
    "#Observamos que clientes que tem frequencia baixa e média, não dão bons resultados financeiros, porém clientes que tem alta frequencia, tem bons resultados, nesse caso o resultado foi de 56% de retorno sobre o investimento."
   ]
  },
  {
   "cell_type": "markdown",
   "metadata": {
    "application/vnd.databricks.v1+cell": {
     "cellMetadata": {},
     "inputWidgets": {},
     "nuid": "9d324082-c558-4909-bfb8-ea2dc2d73af8",
     "showTitle": false,
     "tableResultSettingsMap": {},
     "title": ""
    }
   },
   "source": [
    "Refazendo o ROI por Estado"
   ]
  },
  {
   "cell_type": "code",
   "execution_count": 0,
   "metadata": {
    "application/vnd.databricks.v1+cell": {
     "cellMetadata": {
      "byteLimit": 2048000,
      "rowLimit": 10000
     },
     "inputWidgets": {},
     "nuid": "db8fbe9f-d9a1-454c-a1f8-7f06246923a9",
     "showTitle": false,
     "tableResultSettingsMap": {},
     "title": ""
    }
   },
   "outputs": [],
   "source": [
    "#Reavaliação por Estado\n",
    "# 1. Juntando os dados necessários\n",
    "df_base_estado = df_orders.join(df_teste_ab, \"id_cliente\", \"inner\") \\\n",
    "                          .select(\"id_cliente\", \"order_id\", \"nm_estado_entrega\", \"#_vl_total_pedido\", \"is_target\")\n",
    "\n",
    "# 2. Receita total por estado e grupo\n",
    "df_receita_estado = df_base_estado.groupBy(\"nm_estado_entrega\", \"is_target\") \\\n",
    "    .agg(_sum(\"#_vl_total_pedido\").alias(\"receita_total\"))\n",
    "\n",
    "# 3. Quantidade de pedidos por estado e grupo\n",
    "df_pedidos_estado = df_base_estado.groupBy(\"nm_estado_entrega\", \"is_target\") \\\n",
    "    .agg(count(\"order_id\").alias(\"qtd_pedidos\"))\n",
    "\n",
    "# 4. Unindo as métricas\n",
    "df_financeiro_estado = df_receita_estado.join(df_pedidos_estado, [\"nm_estado_entrega\", \"is_target\"])\n",
    "\n",
    "# 5. Custo do cupom apenas para grupo \"target\"\n",
    "df_financeiro_estado = df_financeiro_estado.withColumn(\n",
    "    \"custo_cupom\",\n",
    "    when(col(\"is_target\") == \"target\", col(\"qtd_pedidos\") * valor_cupom).otherwise(0.0)\n",
    ")\n",
    "\n",
    "# 6. Pivotando os dados para comparação\n",
    "df_final_estado = df_financeiro_estado.groupBy(\"nm_estado_entrega\").pivot(\"is_target\", [\"control\", \"target\"]) \\\n",
    "    .agg(\n",
    "        _sum(\"receita_total\").alias(\"receita_total\"),\n",
    "        _sum(\"custo_cupom\").alias(\"custo_total\")\n",
    "    ) \\\n",
    "    .withColumn(\"receita_incremental\", col(\"target_receita_total\") - col(\"control_receita_total\")) \\\n",
    "    .withColumn(\"lucro_incremental\", col(\"receita_incremental\") - col(\"target_custo_total\")) \\\n",
    "    .withColumn(\"roi\", (col(\"lucro_incremental\") / col(\"target_custo_total\")) * 100)\n",
    "\n",
    "# 7. Exibindo o resultado\n",
    "df_final_estado.select(\n",
    "    \"nm_estado_entrega\",\n",
    "    \"receita_incremental\",\n",
    "    \"target_custo_total\",\n",
    "    \"lucro_incremental\",\n",
    "    \"roi\"\n",
    ").orderBy(\"roi\").display()\n",
    "\n",
    "\n",
    "#Verificamos que alguns estados como SC, PB, MA os resultados não foram bons\n",
    "#Já estados como BA, SP e RJ tiverem excelentes resultados"
   ]
  }
 ],
 "metadata": {
  "application/vnd.databricks.v1+notebook": {
   "computePreferences": null,
   "dashboards": [],
   "environmentMetadata": {
    "base_environment": "",
    "environment_version": "2"
   },
   "inputWidgetPreferences": null,
   "language": "python",
   "notebookMetadata": {
    "mostRecentlyExecutedCommandWithImplicitDF": {
     "commandId": 7502805720332585,
     "dataframes": [
      "_sqldf"
     ]
    },
    "pythonIndentUnit": 4
   },
   "notebookName": "Gold - Case Ifood",
   "widgets": {}
  },
  "language_info": {
   "name": "python"
  }
 },
 "nbformat": 4,
 "nbformat_minor": 0
}