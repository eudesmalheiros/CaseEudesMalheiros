{
 "cells": [
  {
   "cell_type": "code",
   "execution_count": 0,
   "metadata": {
    "application/vnd.databricks.v1+cell": {
     "cellMetadata": {
      "byteLimit": 2048000,
      "rowLimit": 10000
     },
     "inputWidgets": {},
     "nuid": "a089c195-cc1f-4886-82d3-4a6fa1ff2db9",
     "showTitle": false,
     "tableResultSettingsMap": {},
     "title": ""
    }
   },
   "outputs": [],
   "source": [
    "from pyspark.sql import SparkSession #Importando Pyspark\n",
    "from pyspark.sql.functions import * #Funções\n",
    "from pyspark.sql.types import * #Definir tipos específicos"
   ]
  },
  {
   "cell_type": "code",
   "execution_count": 0,
   "metadata": {
    "application/vnd.databricks.v1+cell": {
     "cellMetadata": {
      "byteLimit": 2048000,
      "implicitDf": true,
      "rowLimit": 10000
     },
     "inputWidgets": {},
     "nuid": "3ad5027a-8f03-4350-bb9e-83b7eb8e630d",
     "showTitle": false,
     "tableResultSettingsMap": {},
     "title": ""
    }
   },
   "outputs": [],
   "source": [
    "%sql\n",
    "--Criando um schema só para a camada bronze\n",
    "Create DATABASE Prata"
   ]
  },
  {
   "cell_type": "markdown",
   "metadata": {
    "application/vnd.databricks.v1+cell": {
     "cellMetadata": {},
     "inputWidgets": {},
     "nuid": "832a3961-8693-4f38-a111-08d79c063c43",
     "showTitle": false,
     "tableResultSettingsMap": {},
     "title": ""
    }
   },
   "source": [
    "**Orders**"
   ]
  },
  {
   "cell_type": "markdown",
   "metadata": {
    "application/vnd.databricks.v1+cell": {
     "cellMetadata": {},
     "inputWidgets": {},
     "nuid": "43765ba7-5a4f-4a46-ac30-b068a03b8ab8",
     "showTitle": false,
     "tableResultSettingsMap": {},
     "title": ""
    }
   },
   "source": [
    "Nesta estapa foram feitas as seguintes análises e mudanças:\n",
    "\n",
    "1 - Mudança no nome dos campos  \n",
    "2 - Drop em algumas colunas que não irão fazer parte da análise (claro que elas poderiam ser utilizadas para diversos cenários, mas na itenção de enchugar a tabela e ajustar para as análises que pensei, resolvi dropar)  \n",
    "3 - Ajustando todos os campos de data para o mesmo fuso  \n",
    "4 - Verificando se haviam siglas de estados fora do padrão  \n",
    "5 - Vereificação de range min e max para verificar se de fato a menor e a maior data estavam dentro do informado no case."
   ]
  },
  {
   "cell_type": "code",
   "execution_count": 0,
   "metadata": {
    "application/vnd.databricks.v1+cell": {
     "cellMetadata": {
      "byteLimit": 2048000,
      "rowLimit": 10000
     },
     "inputWidgets": {},
     "nuid": "5746a23c-d198-461e-83fd-8b8e59a3b316",
     "showTitle": false,
     "tableResultSettingsMap": {},
     "title": ""
    }
   },
   "outputs": [],
   "source": [
    "df_orders = spark.table(\"workspace.bronze.orders_raw\")\n",
    "\n",
    "#Removendo algumas colunas que ao meu ver, não serão necessárias para análise que pensei\n",
    "df_orders = df_orders.drop(\"delivery_address_external_id\",\n",
    "                           \"delivery_address_latitude\",\n",
    "                           \"delivery_address_longitude\",\n",
    "                           \"delivery_address_zip_code\",\n",
    "                           \"items\",\n",
    "                           \"merchant_latitude\",\n",
    "                           \"merchant_longitude\",\n",
    "                           \"customer_name\")\n",
    "\n",
    "\n",
    "df_orders = df_orders.withColumnRenamed(\"customer_id\",\"id_cliente\").withColumnRenamed(\"delivery_address_city\",\"nm_cidade_entrega\").withColumnRenamed(\"delivery_address_country\",\"nm_pais_entrega\").withColumnRenamed(\"delivery_address_district\",\"nm_bairro_entrega\").withColumnRenamed(\"delivery_address_state\",\"nm_estado_entrega\").withColumnRenamed(\"merchant_id\",\"id_restaurante\").withColumnRenamed(\"merchant_timezone\",\"nm_fuso_restaurante\").withColumnRenamed(\"order_created_at\",\"dt_hr_pedido\").withColumnRenamed(\"order_scheduled\",\"flg_agendamento\").withColumnRenamed(\"order_total_amount\",\"#_vl_total_pedido\").withColumnRenamed(\"origin_platform\",\"nm_plataforma\").withColumnRenamed(\"order_scheduled_date\",\"dt_hr_agendamento\")\\\n",
    "    .withColumn(\"dt_hr_loaded\",current_timestamp()) #Inserindo coluna técninca para controle de carga\n"
   ]
  },
  {
   "cell_type": "code",
   "execution_count": 0,
   "metadata": {
    "application/vnd.databricks.v1+cell": {
     "cellMetadata": {
      "byteLimit": 2048000,
      "rowLimit": 10000
     },
     "inputWidgets": {},
     "nuid": "588bd9c3-9dbf-44ce-9653-7ed3431d9487",
     "showTitle": false,
     "tableResultSettingsMap": {},
     "title": ""
    }
   },
   "outputs": [],
   "source": [
    "# Tratando colunas de Data\n",
    "\n",
    "#Percebi que os dados estão em diversos fusos, então resolvi converter todas as datas em horário de brasilia\n",
    "\n",
    "df_orders = df_orders.withColumn(\n",
    "    \"dt_hr_pedido_brasilia\",\n",
    "    from_utc_timestamp(\"dt_hr_pedido\", \"America/Sao_Paulo\")\n",
    ")\n",
    "\n",
    "\n",
    "df_orders = df_orders.withColumn(\n",
    "    \"dt_hr_agendamento_brasilia\",\n",
    "    from_utc_timestamp(\"dt_hr_agendamento\", \"America/Sao_Paulo\")\n",
    ")\n",
    "\n"
   ]
  },
  {
   "cell_type": "code",
   "execution_count": 0,
   "metadata": {
    "application/vnd.databricks.v1+cell": {
     "cellMetadata": {
      "byteLimit": 2048000,
      "rowLimit": 10000
     },
     "inputWidgets": {},
     "nuid": "a399f953-097f-431e-b758-7b4fff7b189c",
     "showTitle": false,
     "tableResultSettingsMap": {},
     "title": ""
    }
   },
   "outputs": [],
   "source": [
    "df_orders.printSchema()"
   ]
  },
  {
   "cell_type": "code",
   "execution_count": 0,
   "metadata": {
    "application/vnd.databricks.v1+cell": {
     "cellMetadata": {
      "byteLimit": 2048000,
      "rowLimit": 10000
     },
     "inputWidgets": {},
     "nuid": "53945d2a-579a-431d-ba3d-10b015b4269b",
     "showTitle": false,
     "tableResultSettingsMap": {},
     "title": ""
    }
   },
   "outputs": [],
   "source": [
    "#df_orders.select(\"nm_fuso_restaurante\").distinct().show()\n",
    "\n",
    "display(df_orders)"
   ]
  },
  {
   "cell_type": "code",
   "execution_count": 0,
   "metadata": {
    "application/vnd.databricks.v1+cell": {
     "cellMetadata": {
      "byteLimit": 2048000,
      "rowLimit": 10000
     },
     "inputWidgets": {},
     "nuid": "b9f7b27f-30e4-45ff-8d0b-e6e6fed21c71",
     "showTitle": false,
     "tableResultSettingsMap": {},
     "title": ""
    }
   },
   "outputs": [],
   "source": [
    "#Verificando se há estados fora do padrão\n",
    "df_orders.groupBy(\"nm_estado_entrega\").count().show()"
   ]
  },
  {
   "cell_type": "code",
   "execution_count": 0,
   "metadata": {
    "application/vnd.databricks.v1+cell": {
     "cellMetadata": {
      "byteLimit": 2048000,
      "rowLimit": 10000
     },
     "inputWidgets": {},
     "nuid": "e9a2a902-ed1e-4ea2-b07e-ba8f99690b22",
     "showTitle": false,
     "tableResultSettingsMap": {},
     "title": ""
    }
   },
   "outputs": [],
   "source": [
    "\n",
    "#Verificando se de fato o range está de acordo com o informado no case dez/18 a jan/19\n",
    "df_orders.agg(min(\"dt_hr_pedido_brasilia\")).show()"
   ]
  },
  {
   "cell_type": "code",
   "execution_count": 0,
   "metadata": {
    "application/vnd.databricks.v1+cell": {
     "cellMetadata": {
      "byteLimit": 2048000,
      "rowLimit": 10000
     },
     "inputWidgets": {},
     "nuid": "edb3162e-cb7f-49cd-b174-a98d6e49babd",
     "showTitle": false,
     "tableResultSettingsMap": {},
     "title": ""
    }
   },
   "outputs": [],
   "source": [
    "\n",
    "#Verificando se de fato o range está de acordo com o informado no case dez/18 a jan/19\n",
    "df_orders.agg(max(\"dt_hr_pedido_brasilia\")).show()"
   ]
  },
  {
   "cell_type": "code",
   "execution_count": 0,
   "metadata": {
    "application/vnd.databricks.v1+cell": {
     "cellMetadata": {
      "byteLimit": 2048000,
      "rowLimit": 10000
     },
     "inputWidgets": {},
     "nuid": "230217bc-ed99-4345-a03b-98e543bc2870",
     "showTitle": false,
     "tableResultSettingsMap": {},
     "title": ""
    }
   },
   "outputs": [],
   "source": [
    "#persistindo os dados em tabela\n",
    "df_orders.write.format(\"delta\").mode(\"overwrite\").saveAsTable(\"Prata.orders\")"
   ]
  },
  {
   "cell_type": "markdown",
   "metadata": {
    "application/vnd.databricks.v1+cell": {
     "cellMetadata": {},
     "inputWidgets": {},
     "nuid": "3144073d-0b22-4c62-a617-9363b1599325",
     "showTitle": false,
     "tableResultSettingsMap": {},
     "title": ""
    }
   },
   "source": [
    "**Users**"
   ]
  },
  {
   "cell_type": "markdown",
   "metadata": {
    "application/vnd.databricks.v1+cell": {
     "cellMetadata": {},
     "inputWidgets": {},
     "nuid": "1bce26cc-691b-4e33-a54d-60c21e70bf90",
     "showTitle": false,
     "tableResultSettingsMap": {},
     "title": ""
    }
   },
   "source": [
    "foram feitas nessa etapa  \n",
    "1 - Alteração dos nomes dos campos  \n",
    "2 - Adição de coluna técninca para data de criação do registro  \n",
    "3 - Padronizaçao do horário para UTC América/São Paulo  \n",
    "4 - Verificação de havia dados duplicados ou com id duplicados  \n",
    "5 - Verificação se havia outros tipos sem ser ativo ou inativo  \n",
    "6 - Verificaçao se havia necessidade de mudar o tipo da coluna de linguagem, porém   não houve por não haver diversidade nesses dados.  \n",
    "7 - Padronização do campo nm_usuario para sempre aparecer maíusculo.  "
   ]
  },
  {
   "cell_type": "code",
   "execution_count": 0,
   "metadata": {
    "application/vnd.databricks.v1+cell": {
     "cellMetadata": {
      "byteLimit": 2048000,
      "rowLimit": 10000
     },
     "inputWidgets": {},
     "nuid": "e05b6a42-9163-49d7-af36-0da697d927b9",
     "showTitle": false,
     "tableResultSettingsMap": {},
     "title": ""
    }
   },
   "outputs": [],
   "source": [
    "df_user = spark.table(\"workspace.bronze.users_raw\")\n",
    "\n",
    "df_user = df_user.withColumnRenamed(\"customer_id\",\"id_cliente\").withColumnRenamed(\"language\",\"nm_linguagem_cel\").withColumnRenamed(\"created_at\",\"dt_hr_criacao\").withColumnRenamed(\"customer_name\",\"nm_usuario\").withColumnRenamed(\"customer_phone_area\",\"cod_ddd\").withColumnRenamed(\"customer_phone_number\",\"ds_telefone\")\n"
   ]
  },
  {
   "cell_type": "code",
   "execution_count": 0,
   "metadata": {
    "application/vnd.databricks.v1+cell": {
     "cellMetadata": {
      "byteLimit": 2048000,
      "rowLimit": 10000
     },
     "inputWidgets": {},
     "nuid": "5ba1bf0f-ac90-4b89-931f-92a3a7685de9",
     "showTitle": false,
     "tableResultSettingsMap": {},
     "title": ""
    }
   },
   "outputs": [],
   "source": [
    "#Padronizando a data para UTC correto\n",
    "df_user = df_user.withColumn(\n",
    "    \"dt_hr_criacao\",\n",
    "    from_utc_timestamp(\"dt_hr_criacao\", \"America/Sao_Paulo\")\n",
    ")"
   ]
  },
  {
   "cell_type": "code",
   "execution_count": 0,
   "metadata": {
    "application/vnd.databricks.v1+cell": {
     "cellMetadata": {
      "byteLimit": 2048000,
      "rowLimit": 10000
     },
     "collapsed": true,
     "inputWidgets": {},
     "nuid": "32ad11c5-dc5c-4b2f-ad55-8962020bca90",
     "showTitle": false,
     "tableResultSettingsMap": {},
     "title": ""
    }
   },
   "outputs": [
    {
     "output_type": "stream",
     "name": "stdout",
     "output_type": "stream",
     "text": [
      "root\n |-- id_cliente: string (nullable = true)\n |-- nm_linguagem_cel: string (nullable = true)\n |-- dt_hr_criacao: timestamp (nullable = true)\n |-- active: string (nullable = true)\n |-- nm_usuario: string (nullable = true)\n |-- cod_ddd: string (nullable = true)\n |-- ds_telefone: string (nullable = true)\n\n"
     ]
    }
   ],
   "source": [
    "df_user.printSchema()"
   ]
  },
  {
   "cell_type": "code",
   "execution_count": 0,
   "metadata": {
    "application/vnd.databricks.v1+cell": {
     "cellMetadata": {
      "byteLimit": 2048000,
      "rowLimit": 10000
     },
     "inputWidgets": {},
     "nuid": "00d33829-bfe1-4d5f-ab4a-5cf1874f9989",
     "showTitle": false,
     "tableResultSettingsMap": {},
     "title": ""
    }
   },
   "outputs": [
    {
     "output_type": "stream",
     "name": "stdout",
     "output_type": "stream",
     "text": [
      "+----------+---+\n|id_cliente|qtd|\n+----------+---+\n+----------+---+\n\n"
     ]
    }
   ],
   "source": [
    "#Verificando se de fato o id_cliente está duplicado\n",
    "df_user.groupBy(\"id_cliente\") \\\n",
    "    .agg(count(\"*\").alias(\"qtd\")) \\\n",
    "    .filter(\"qtd > 1\").show()"
   ]
  },
  {
   "cell_type": "code",
   "execution_count": 0,
   "metadata": {
    "application/vnd.databricks.v1+cell": {
     "cellMetadata": {
      "byteLimit": 2048000,
      "rowLimit": 10000
     },
     "inputWidgets": {},
     "nuid": "75a101ca-ed71-41d1-a7b1-b003e494516b",
     "showTitle": false,
     "tableResultSettingsMap": {},
     "title": ""
    }
   },
   "outputs": [],
   "source": [
    "#Checkando a quantidade de usuários ativos e inativos do df\n",
    "#Checkando se há algum outro registro que não seguisse o padrão de ativo e inativo\n",
    "df_user.groupBy(\"active\").count().show()"
   ]
  },
  {
   "cell_type": "code",
   "execution_count": 0,
   "metadata": {
    "application/vnd.databricks.v1+cell": {
     "cellMetadata": {
      "byteLimit": 2048000,
      "rowLimit": 10000
     },
     "inputWidgets": {},
     "nuid": "10337d09-d788-4df3-ab1f-54660326d0e7",
     "showTitle": false,
     "tableResultSettingsMap": {},
     "title": ""
    }
   },
   "outputs": [],
   "source": [
    "#Checkando quantas quantidade de linguagens estão nos registros.\n",
    "df_user.groupBy(\"nm_linguagem_cel\").count().show()"
   ]
  },
  {
   "cell_type": "code",
   "execution_count": 0,
   "metadata": {
    "application/vnd.databricks.v1+cell": {
     "cellMetadata": {
      "byteLimit": 2048000,
      "rowLimit": 10000
     },
     "inputWidgets": {},
     "nuid": "5988c195-2bfd-4936-8c36-0d8d5d511aa2",
     "showTitle": false,
     "tableResultSettingsMap": {},
     "title": ""
    }
   },
   "outputs": [],
   "source": [
    "#Percebi que há um padrão diferente entre letras maísculas e minusculas\n",
    "df_user.select(\"nm_usuario\").show(50)"
   ]
  },
  {
   "cell_type": "code",
   "execution_count": 0,
   "metadata": {
    "application/vnd.databricks.v1+cell": {
     "cellMetadata": {
      "byteLimit": 2048000,
      "rowLimit": 10000
     },
     "inputWidgets": {},
     "nuid": "339f187c-b499-4f54-87e6-87b3ec4e1f99",
     "showTitle": false,
     "tableResultSettingsMap": {},
     "title": ""
    }
   },
   "outputs": [],
   "source": [
    "df_user = df_user.withColumn(\"nm_usuario\", upper(\"nm_usuario\"))"
   ]
  },
  {
   "cell_type": "code",
   "execution_count": 0,
   "metadata": {
    "application/vnd.databricks.v1+cell": {
     "cellMetadata": {
      "byteLimit": 2048000,
      "rowLimit": 10000
     },
     "inputWidgets": {},
     "nuid": "54c99df1-6e49-47b1-9490-5b7774bf9602",
     "showTitle": false,
     "tableResultSettingsMap": {},
     "title": ""
    }
   },
   "outputs": [],
   "source": [
    "display(df_user)"
   ]
  },
  {
   "cell_type": "code",
   "execution_count": 0,
   "metadata": {
    "application/vnd.databricks.v1+cell": {
     "cellMetadata": {
      "byteLimit": 2048000,
      "rowLimit": 10000
     },
     "inputWidgets": {},
     "nuid": "c0d92960-0d17-48f4-8f42-1a4dfb7c862b",
     "showTitle": false,
     "tableResultSettingsMap": {},
     "title": ""
    }
   },
   "outputs": [],
   "source": [
    "#Persistindo em tabela\n",
    "df_user.write.format(\"delta\").mode(\"overwrite\").saveAsTable(\"Prata.users\")"
   ]
  },
  {
   "cell_type": "markdown",
   "metadata": {
    "application/vnd.databricks.v1+cell": {
     "cellMetadata": {},
     "inputWidgets": {},
     "nuid": "a765c3b3-47cc-4cd1-a913-ca7e5add01a6",
     "showTitle": false,
     "tableResultSettingsMap": {},
     "title": ""
    }
   },
   "source": [
    "**Restaurante**"
   ]
  },
  {
   "cell_type": "markdown",
   "metadata": {
    "application/vnd.databricks.v1+cell": {
     "cellMetadata": {},
     "inputWidgets": {},
     "nuid": "87e195f8-142b-43ed-a6a1-bc37307e6ec4",
     "showTitle": false,
     "tableResultSettingsMap": {},
     "title": ""
    }
   },
   "source": [
    "No dataframe de restaurante foram feitas as seguintes verificações:  \n",
    "1 - Mudança dos nomes dos campos para maior entendimento  \n",
    "2 - Check se o id era único   \n",
    "3 - Check no padrão true ou false na coluna enable  \n",
    "4 - Mudança do fuso  \n",
    "5 - Verificação se as siglas dos estados estavam no mesmo padrão"
   ]
  },
  {
   "cell_type": "code",
   "execution_count": 0,
   "metadata": {
    "application/vnd.databricks.v1+cell": {
     "cellMetadata": {
      "byteLimit": 2048000,
      "rowLimit": 10000
     },
     "inputWidgets": {},
     "nuid": "d756a67b-6e34-4e22-9625-6d8797df26a7",
     "showTitle": false,
     "tableResultSettingsMap": {},
     "title": ""
    }
   },
   "outputs": [],
   "source": [
    "df_restaurant = spark.table(\"workspace.bronze.restaurant_raw\")\n",
    "\n",
    "df_restaurant = df_restaurant.withColumnRenamed(\"id\",\"id_restaurante\").withColumnRenamed(\"created_at\",\"dt_hr_criacao_rest\").withColumnRenamed(\"enabled\",\"enabled\").withColumnRenamed(\"price_range\",\"cod_preco_medio\").withColumnRenamed(\"average_ticket\",\"#_vl_ticket_medio_pedidos\").withColumnRenamed(\"takeout_time\",\"#_vl_tempo_medio\").withColumnRenamed(\"delivery_time\",\"vl_tempo_entrega\").withColumnRenamed(\"minimum_order_value\",\"vl_min_pedido\").withColumnRenamed(\"merchant_zip_code\",\"cod_cep_rest\").withColumnRenamed(\"merchant_city\",\"nm_cidade_rest\").withColumnRenamed(\"merchant_state\",\"nm_estado_rest\").withColumnRenamed(\"merchant_country\",\"nm_pais_rest\")"
   ]
  },
  {
   "cell_type": "code",
   "execution_count": 0,
   "metadata": {
    "application/vnd.databricks.v1+cell": {
     "cellMetadata": {
      "byteLimit": 2048000,
      "rowLimit": 10000
     },
     "inputWidgets": {},
     "nuid": "ceef6457-415f-4881-bb0f-acc4da1e58f1",
     "showTitle": false,
     "tableResultSettingsMap": {},
     "title": ""
    }
   },
   "outputs": [],
   "source": [
    "display(df_restaurant)"
   ]
  },
  {
   "cell_type": "code",
   "execution_count": 0,
   "metadata": {
    "application/vnd.databricks.v1+cell": {
     "cellMetadata": {
      "byteLimit": 2048000,
      "rowLimit": 10000
     },
     "inputWidgets": {},
     "nuid": "1ed6f605-37ee-463b-9d62-02625243dba8",
     "showTitle": false,
     "tableResultSettingsMap": {},
     "title": ""
    }
   },
   "outputs": [],
   "source": [
    "#Verificando se de fato o id_restaurante é único\n",
    "df_restaurant.groupBy(\"id_restaurante\") \\\n",
    "    .agg(count(\"*\").alias(\"qtd\")) \\\n",
    "    .filter(\"qtd > 1\").show()"
   ]
  },
  {
   "cell_type": "code",
   "execution_count": 0,
   "metadata": {
    "application/vnd.databricks.v1+cell": {
     "cellMetadata": {
      "byteLimit": 2048000,
      "rowLimit": 10000
     },
     "inputWidgets": {},
     "nuid": "509c412b-072f-4fa2-9a19-3662d0420d15",
     "showTitle": false,
     "tableResultSettingsMap": {},
     "title": ""
    }
   },
   "outputs": [],
   "source": [
    "#Checkando a quantidade de restaurantes ativos e inativos do df\n",
    "#Checkando se há algum outro registro que não seguisse o padrão de ativo e inativo\n",
    "df_restaurant.groupBy(\"enabled\").count().show()"
   ]
  },
  {
   "cell_type": "code",
   "execution_count": 0,
   "metadata": {
    "application/vnd.databricks.v1+cell": {
     "cellMetadata": {
      "byteLimit": 2048000,
      "rowLimit": 10000
     },
     "inputWidgets": {},
     "nuid": "55a6e784-f8a1-4ee5-b494-1bc44e57f96f",
     "showTitle": false,
     "tableResultSettingsMap": {},
     "title": ""
    }
   },
   "outputs": [],
   "source": [
    "#Padronizando a data para UTC correto\n",
    "df_restaurant = df_restaurant.withColumn(\n",
    "    \"dt_hr_criacao_rest\",\n",
    "    from_utc_timestamp(\"dt_hr_criacao_rest\", \"America/Sao_Paulo\")\n",
    ")"
   ]
  },
  {
   "cell_type": "code",
   "execution_count": 0,
   "metadata": {
    "application/vnd.databricks.v1+cell": {
     "cellMetadata": {
      "byteLimit": 2048000,
      "rowLimit": 10000
     },
     "inputWidgets": {},
     "nuid": "35e405c5-8b71-4420-97cf-8ef3cd2f758c",
     "showTitle": false,
     "tableResultSettingsMap": {},
     "title": ""
    }
   },
   "outputs": [],
   "source": [
    "#Verificando se há alguma sigla de estado fora do padrão\n",
    "df_restaurant.groupBy(\"nm_estado_rest\").count().show()"
   ]
  },
  {
   "cell_type": "code",
   "execution_count": 0,
   "metadata": {
    "application/vnd.databricks.v1+cell": {
     "cellMetadata": {
      "byteLimit": 2048000,
      "rowLimit": 10000
     },
     "inputWidgets": {},
     "nuid": "b109cf58-b2ac-4029-a6a8-03b689252e08",
     "showTitle": false,
     "tableResultSettingsMap": {},
     "title": ""
    }
   },
   "outputs": [],
   "source": [
    "#Persistindo em tabela\n",
    "df_restaurant.write.format(\"delta\").mode(\"overwrite\").saveAsTable(\"Prata.restaurant\")"
   ]
  },
  {
   "cell_type": "markdown",
   "metadata": {
    "application/vnd.databricks.v1+cell": {
     "cellMetadata": {},
     "inputWidgets": {},
     "nuid": "5b25be7e-f9f5-40f2-9795-c2dc0427491c",
     "showTitle": false,
     "tableResultSettingsMap": {},
     "title": ""
    }
   },
   "source": [
    "**Teste A/B**"
   ]
  },
  {
   "cell_type": "markdown",
   "metadata": {
    "application/vnd.databricks.v1+cell": {
     "cellMetadata": {},
     "inputWidgets": {},
     "nuid": "87add53d-a176-4846-8f8a-28713795673e",
     "showTitle": false,
     "tableResultSettingsMap": {},
     "title": ""
    }
   },
   "source": [
    "Neste data frame fiz as seguintes ações:\n",
    "\n",
    "1 - Mudança do nome da coluna customer_id  \n",
    "2 - Verificando se ela é única"
   ]
  },
  {
   "cell_type": "code",
   "execution_count": 0,
   "metadata": {
    "application/vnd.databricks.v1+cell": {
     "cellMetadata": {
      "byteLimit": 2048000,
      "rowLimit": 10000
     },
     "inputWidgets": {},
     "nuid": "50f55f6c-7d95-4c27-8cea-0f7876f1d59e",
     "showTitle": false,
     "tableResultSettingsMap": {},
     "title": ""
    }
   },
   "outputs": [],
   "source": [
    "df_teste_ab = spark.table(\"workspace.bronze.ab_test_ref\")\n",
    "\n",
    "df_teste_ab = df_teste_ab.withColumnRenamed(\"customer_id\",\"id_cliente\")"
   ]
  },
  {
   "cell_type": "code",
   "execution_count": 0,
   "metadata": {
    "application/vnd.databricks.v1+cell": {
     "cellMetadata": {
      "byteLimit": 2048000,
      "rowLimit": 10000
     },
     "inputWidgets": {},
     "nuid": "45cc25ef-1ba4-4de7-9ac9-0fc3a9c95e40",
     "showTitle": false,
     "tableResultSettingsMap": {},
     "title": ""
    }
   },
   "outputs": [],
   "source": [
    "#Verificando se de fato o id_cliente é único\n",
    "df_teste_ab.groupBy(\"id_cliente\") \\\n",
    "    .agg(count(\"*\").alias(\"qtd\")) \\\n",
    "    .filter(\"qtd > 1\").show()"
   ]
  },
  {
   "cell_type": "code",
   "execution_count": 0,
   "metadata": {
    "application/vnd.databricks.v1+cell": {
     "cellMetadata": {
      "byteLimit": 2048000,
      "rowLimit": 10000
     },
     "inputWidgets": {},
     "nuid": "bad9c930-afd4-478a-a935-34651989b7a8",
     "showTitle": false,
     "tableResultSettingsMap": {},
     "title": ""
    }
   },
   "outputs": [],
   "source": [
    "#Persistindo em tabela\n",
    "df_teste_ab.write.format(\"delta\").mode(\"overwrite\").saveAsTable(\"Prata.teste_ab\")"
   ]
  },
  {
   "cell_type": "markdown",
   "metadata": {
    "application/vnd.databricks.v1+cell": {
     "cellMetadata": {},
     "inputWidgets": {},
     "nuid": "e3e44dfb-1289-4f08-8af3-49d8dd5d467b",
     "showTitle": false,
     "tableResultSettingsMap": {},
     "title": ""
    }
   },
   "source": [
    "**Tabela Henriquecida**\n",
    "\n"
   ]
  }
 ],
 "metadata": {
  "application/vnd.databricks.v1+notebook": {
   "computePreferences": null,
   "dashboards": [],
   "environmentMetadata": {
    "base_environment": "",
    "environment_version": "2"
   },
   "inputWidgetPreferences": null,
   "language": "python",
   "notebookMetadata": {
    "mostRecentlyExecutedCommandWithImplicitDF": {
     "commandId": 5820354779138875,
     "dataframes": [
      "_sqldf"
     ]
    },
    "pythonIndentUnit": 4
   },
   "notebookName": "Silver - Case Ifood",
   "widgets": {}
  },
  "language_info": {
   "name": "python"
  }
 },
 "nbformat": 4,
 "nbformat_minor": 0
}